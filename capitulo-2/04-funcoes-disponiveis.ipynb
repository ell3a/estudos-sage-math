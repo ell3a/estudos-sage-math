{
 "metadata": {
  "language_info": {
   "codemirror_mode": {
    "name": "ipython",
    "version": 3
   },
   "file_extension": ".py",
   "mimetype": "text/x-python",
   "name": "python",
   "nbconvert_exporter": "python",
   "pygments_lexer": "ipython3",
   "version": 3
  },
  "orig_nbformat": 2,
  "kernelspec": {
   "name": "sagemath",
   "display_name": "SageMath 8.6",
   "language": ""
  }
 },
 "nbformat": 4,
 "nbformat_minor": 2,
 "cells": [
  {
   "source": [
    "# Capítulo 2\n",
    "---\n",
    "## _SageMath: Primeiros Passos_\n",
    "\n",
    "### Funções Matemáticas\n",
    "\n",
    "O Sage tem uma série de funções pré-definidadas, que podem ser usadas em qualque parte do código.\n",
    "\n",
    "#### Funções Básicas\n",
    "\n",
    "Vamos usar algumas funções básicas do Sage na resolução de equações do segundo grau.\n",
    "\n",
    "**Fórmula de Bhaskara:**  As soluções de uma equação $ax^2+bx+c = 0$, com $a \\neq 0$ podem ser encontradas usando a fórmula:\n",
    "\n",
    "$$\n",
    "x = \\frac{-b \\pm \\sqrt{\\Delta}}{2a}\n",
    "$$\n",
    "\n",
    "Onde $\\Delta = b^2 - 4ac$.\n",
    "\n",
    "Resolver a equação $x^2 +4x - 21 = 0$\n"
   ],
   "cell_type": "markdown",
   "metadata": {}
  },
  {
   "cell_type": "code",
   "execution_count": 1,
   "metadata": {},
   "outputs": [
    {
     "output_type": "execute_result",
     "data": {
      "text/plain": [
       "100"
      ]
     },
     "metadata": {},
     "execution_count": 1
    }
   ],
   "source": [
    "# Calculando delta\n",
    "delta = 4^2 - 4*1*(-21)\n",
    "delta"
   ]
  },
  {
   "cell_type": "code",
   "execution_count": 2,
   "metadata": {},
   "outputs": [
    {
     "output_type": "execute_result",
     "data": {
      "text/plain": [
       "(3, -7)"
      ]
     },
     "metadata": {},
     "execution_count": 2
    }
   ],
   "source": [
    "# Calculando x1 e x2\n",
    "x1 = (-4+sqrt(delta))/(2*1)\n",
    "x2 = (-4-sqrt(delta))/(2*1)\n",
    "x1, x2"
   ]
  },
  {
   "cell_type": "code",
   "execution_count": 3,
   "metadata": {},
   "outputs": [
    {
     "output_type": "execute_result",
     "data": {
      "text/plain": [
       "[x == 3, x == -7]"
      ]
     },
     "metadata": {},
     "execution_count": 3
    }
   ],
   "source": [
    "# Poderíamos ter usado o método solve\n",
    "solve(x^2+4*x-21,x)"
   ]
  },
  {
   "cell_type": "code",
   "execution_count": 4,
   "metadata": {},
   "outputs": [
    {
     "output_type": "stream",
     "name": "stdout",
     "text": [
      "1 \n\n1 1 \n\n1 2 1 \n\n1 3 3 1 \n\n1 4 6 4 1 \n\n1 5 10 10 5 1 \n\n1 6 15 20 15 6 1 \n\n1 7 21 35 35 21 7 1 \n\n1 8 28 56 70 56 28 8 1 \n\n1 9 36 84 126 126 84 36 9 1 \n\n"
     ]
    }
   ],
   "source": [
    "# Imprimindo o triângulo de Pascal\n",
    "\n",
    "import sys\n",
    "m = 10 # Número de linhas do triângulo\n",
    "\n",
    "for n in range(m):\n",
    "    for p in range(m):\n",
    "        x = str(binomial(n,p))\n",
    "        if (x != '0'):\n",
    "            print x,\n",
    "            sys.stdout.write(\"\")\n",
    "    print('\\n')        "
   ]
  },
  {
   "cell_type": "code",
   "execution_count": 5,
   "metadata": {},
   "outputs": [
    {
     "output_type": "execute_result",
     "data": {
      "text/plain": [
       "(I, -1, -I)"
      ]
     },
     "metadata": {},
     "execution_count": 5
    }
   ],
   "source": [
    "# Números complexos\n",
    "\n",
    "sqrt(-1), i^2, I^3"
   ]
  },
  {
   "cell_type": "code",
   "execution_count": 6,
   "metadata": {},
   "outputs": [],
   "source": [
    "# Cálculo do argumento de um número complexo\n",
    "z = 0.5 + 0.5*sqrt(3)*i"
   ]
  },
  {
   "cell_type": "code",
   "execution_count": 7,
   "metadata": {},
   "outputs": [
    {
     "output_type": "execute_result",
     "data": {
      "text/plain": [
       "1.0471975512"
      ]
     },
     "metadata": {},
     "execution_count": 7
    }
   ],
   "source": [
    "# Valor em Radianos\n",
    "y = round(arg(z),10)\n",
    "y"
   ]
  },
  {
   "cell_type": "code",
   "execution_count": 8,
   "metadata": {},
   "outputs": [
    {
     "output_type": "execute_result",
     "data": {
      "text/plain": [
       "60.0"
      ]
     },
     "metadata": {},
     "execution_count": 8
    }
   ],
   "source": [
    "# Convertendo para graus\n",
    "\n",
    "(y * 180)/(round(pi,10))"
   ]
  }
 ]
}