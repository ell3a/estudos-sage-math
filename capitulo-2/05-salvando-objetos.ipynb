{
 "metadata": {
  "language_info": {
   "codemirror_mode": {
    "name": "ipython",
    "version": 3
   },
   "file_extension": ".py",
   "mimetype": "text/x-python",
   "name": "python",
   "nbconvert_exporter": "python",
   "pygments_lexer": "ipython3",
   "version": 3
  },
  "orig_nbformat": 2,
  "kernelspec": {
   "name": "sagemath",
   "display_name": "SageMath 8.6",
   "language": ""
  }
 },
 "nbformat": 4,
 "nbformat_minor": 2,
 "cells": [
  {
   "source": [
    "# Salvando Objetos e Variáveis\n",
    "\n",
    "É possível salvar objetos e variáveis usando o método `save`, com a sintaxe:\n",
    "~~~\n",
    "save(objeto, 'nome-do-arquivo')\n",
    "~~~\n",
    "No diretório do arquivo Sage será criado um arquivo de extensão `.sobj` contendo o `objeto`."
   ],
   "cell_type": "markdown",
   "metadata": {}
  },
  {
   "cell_type": "code",
   "execution_count": 1,
   "metadata": {},
   "outputs": [
    {
     "output_type": "execute_result",
     "data": {
      "text/plain": [
       "[ 1  2  3]\n",
       "[ 0  0  0]\n",
       "[-1 -2 -3]"
      ]
     },
     "metadata": {},
     "execution_count": 1
    }
   ],
   "source": [
    "# Criando a Matriz\n",
    "A = matrix([[1,2,3],[0,0,0],[-1,-2,-3]])\n",
    "A"
   ]
  },
  {
   "cell_type": "code",
   "execution_count": 2,
   "metadata": {},
   "outputs": [],
   "source": [
    "# Salvando a matriz criada\n",
    "save(A, 'matrizA')"
   ]
  },
  {
   "cell_type": "code",
   "execution_count": 3,
   "metadata": {},
   "outputs": [
    {
     "output_type": "stream",
     "name": "stdout",
     "text": [
      "01-inserindo-comandos.ipynb\t 04-funcoes-disponiveis.ipynb  README.md\n02-aproximacoes-numericas.ipynb  05-salvando-objetos.ipynb\n03-variaveis-simbolicas.ipynb\t matrizA.sobj\n"
     ]
    }
   ],
   "source": [
    "# Mostrando a lista de arquivos no diretório\n",
    "\n",
    "!ls"
   ]
  },
  {
   "source": [
    "# Lendo um Arquivo Salvo\n",
    "\n",
    "Para carregarmos na memória um objeto salvo usamos o método `load`: `load('nome-do-Arquivo)`."
   ],
   "cell_type": "markdown",
   "metadata": {}
  },
  {
   "cell_type": "code",
   "execution_count": 4,
   "metadata": {},
   "outputs": [],
   "source": [
    "# Apagando as variáveis da memória\n",
    "reset()"
   ]
  },
  {
   "cell_type": "code",
   "execution_count": 5,
   "metadata": {},
   "outputs": [
    {
     "output_type": "error",
     "ename": "NameError",
     "evalue": "name 'A' is not defined",
     "traceback": [
      "\u001b[0;31m\u001b[0m",
      "\u001b[0;31mNameError\u001b[0mTraceback (most recent call last)",
      "\u001b[0;32m/usr/lib/python2.7/dist-packages/sage/all_cmdline.pyc\u001b[0m in \u001b[0;36m<module>\u001b[0;34m()\u001b[0m\n\u001b[1;32m      1\u001b[0m \u001b[0;31m# A matriz a não está mais na memória\u001b[0m\u001b[0;34m\u001b[0m\u001b[0;34m\u001b[0m\u001b[0m\n\u001b[1;32m      2\u001b[0m \u001b[0;34m\u001b[0m\u001b[0m\n\u001b[0;32m----> 3\u001b[0;31m \u001b[0mA\u001b[0m\u001b[0;34m\u001b[0m\u001b[0m\n\u001b[0m",
      "\u001b[0;31mNameError\u001b[0m: name 'A' is not defined"
     ]
    }
   ],
   "source": [
    "# A matriz a não está mais na memória\n",
    "\n",
    "A"
   ]
  },
  {
   "cell_type": "code",
   "execution_count": 6,
   "metadata": {},
   "outputs": [
    {
     "output_type": "stream",
     "name": "stdout",
     "text": [
      "01-inserindo-comandos.ipynb\t 04-funcoes-disponiveis.ipynb  README.md\n02-aproximacoes-numericas.ipynb  05-salvando-objetos.ipynb\n03-variaveis-simbolicas.ipynb\t matrizA.sobj\n"
     ]
    }
   ],
   "source": [
    "# Mostrando os arquivos do diretório\n",
    "!ls"
   ]
  },
  {
   "cell_type": "code",
   "execution_count": 7,
   "metadata": {},
   "outputs": [
    {
     "output_type": "execute_result",
     "data": {
      "text/plain": [
       "[ 1  2  3]\n",
       "[ 0  0  0]\n",
       "[-1 -2 -3]"
      ]
     },
     "metadata": {},
     "execution_count": 7
    }
   ],
   "source": [
    "# Atribuindo à variável A o objeto salvo com o mome matrizA.sobj\n",
    "A = load('matrizA.sobj')\n",
    "\n",
    "A # Mostrando o conteúdo de A"
   ]
  },
  {
   "source": [
    "---\n",
    "# Convertendo um Saída Sage Para $\\LaTeX$\n",
    "\n",
    "Ao usarmos o método `latex()` em uma variável ou comando obtemos uma saída com formatação $\\LaTeX$:"
   ],
   "cell_type": "markdown",
   "metadata": {}
  },
  {
   "cell_type": "code",
   "execution_count": 8,
   "metadata": {},
   "outputs": [
    {
     "output_type": "execute_result",
     "data": {
      "text/plain": [
       "\\frac{1}{3} \\, x^{3}"
      ]
     },
     "metadata": {},
     "execution_count": 8
    }
   ],
   "source": [
    "latex(integral(x^2,x))"
   ]
  },
  {
   "cell_type": "code",
   "execution_count": 9,
   "metadata": {},
   "outputs": [
    {
     "output_type": "execute_result",
     "data": {
      "text/plain": [
       "\\left(\\begin{array}{rrr}\n",
       "1 & 2 & 3 \\\\\n",
       "0 & 0 & 0 \\\\\n",
       "-1 & -2 & -3\n",
       "\\end{array}\\right)"
      ]
     },
     "metadata": {},
     "execution_count": 9
    }
   ],
   "source": [
    "latex(A)"
   ]
  },
  {
   "source": [
    "Exibindo as saídas em latex\n",
    "$$\n",
    "\\frac{1}{3} \\, x^{3}\n",
    "$$\n",
    "$$\n",
    "\\left(\\begin{array}{rrr}\n",
    "1 & 2 & 3 \\\\\n",
    "0 & 0 & 0 \\\\\n",
    "-1 & -2 & -3\n",
    "\\end{array}\\right)\n",
    "$$"
   ],
   "cell_type": "markdown",
   "metadata": {}
  },
  {
   "source": [
    "---\n",
    "# Cronometrando o Tempo de um Comando Sage"
   ],
   "cell_type": "markdown",
   "metadata": {}
  },
  {
   "cell_type": "code",
   "execution_count": 10,
   "metadata": {},
   "outputs": [
    {
     "output_type": "stream",
     "name": "stdout",
     "text": [
      "CPU times: user 18 µs, sys: 3 µs, total: 21 µs\nWall time: 25 µs\n"
     ]
    }
   ],
   "source": [
    "%time c = 2500^25"
   ]
  }
 ]
}