{
 "metadata": {
  "language_info": {
   "codemirror_mode": {
    "name": "ipython",
    "version": 3
   },
   "file_extension": ".py",
   "mimetype": "text/x-python",
   "name": "python",
   "nbconvert_exporter": "python",
   "pygments_lexer": "ipython3",
   "version": 3
  },
  "orig_nbformat": 2,
  "kernelspec": {
   "name": "sagemath",
   "display_name": "SageMath 8.6",
   "language": ""
  }
 },
 "nbformat": 4,
 "nbformat_minor": 2,
 "cells": [
  {
   "source": [
    "# Capítulo 2\n",
    "---\n",
    "## _SageMath: Primeiros Passos_\n",
    "\n",
    "### Variáveis Simbólicas\n",
    "\n",
    "Para o Sage uma expressão Simbólicas é um objeto que reprenta uma expressão ou uma constante. Epressões particulares são chamadas de **Variáveis Simbólicas**:\n",
    "\n",
    "Exemplos de aplicação \n",
    "* `x = var('x')`\n",
    "* `x,y,z = var('x,y,z')`\n"
   ],
   "cell_type": "markdown",
   "metadata": {}
  },
  {
   "cell_type": "code",
   "execution_count": 2,
   "metadata": {},
   "outputs": [],
   "source": [
    "x,y,z = var('x,y,z')"
   ]
  },
  {
   "cell_type": "code",
   "execution_count": 3,
   "metadata": {},
   "outputs": [
    {
     "output_type": "execute_result",
     "data": {
      "text/plain": [
       "(x, y, z)"
      ]
     },
     "metadata": {},
     "execution_count": 3
    }
   ],
   "source": [
    "x, y, z"
   ]
  },
  {
   "source": [
    "Por padrão uma variável simbólica é definida no conjuntos dos números complexos, caso seja necessário definir um domínio diferente para a variável usamos: `x = var('x', domain=RR)`.\n",
    "\n",
    "**Obs.: ** O Sage já define o $x$ como uma variável simbólica."
   ],
   "cell_type": "markdown",
   "metadata": {}
  },
  {
   "cell_type": "code",
   "execution_count": 7,
   "metadata": {},
   "outputs": [
    {
     "output_type": "execute_result",
     "data": {
      "text/plain": [
       "2*x + 1"
      ]
     },
     "metadata": {},
     "execution_count": 7
    }
   ],
   "source": [
    "reset() # Apagando as variáveis, definidas nas células anteriores, da memória\n",
    "2*x+1"
   ]
  },
  {
   "cell_type": "code",
   "execution_count": 8,
   "metadata": {},
   "outputs": [
    {
     "output_type": "error",
     "ename": "NameError",
     "evalue": "name 'y' is not defined",
     "traceback": [
      "\u001b[0;31m\u001b[0m",
      "\u001b[0;31mNameError\u001b[0mTraceback (most recent call last)",
      "\u001b[0;32m/usr/lib/python2.7/dist-packages/sage/all_cmdline.pyc\u001b[0m in \u001b[0;36m<module>\u001b[0;34m()\u001b[0m\n\u001b[0;32m----> 1\u001b[0;31m \u001b[0mInteger\u001b[0m\u001b[0;34m(\u001b[0m\u001b[0;36m2\u001b[0m\u001b[0;34m)\u001b[0m\u001b[0;34m*\u001b[0m\u001b[0my\u001b[0m\u001b[0;34m+\u001b[0m\u001b[0mInteger\u001b[0m\u001b[0;34m(\u001b[0m\u001b[0;36m1\u001b[0m\u001b[0;34m)\u001b[0m\u001b[0;34m\u001b[0m\u001b[0m\n\u001b[0m",
      "\u001b[0;31mNameError\u001b[0m: name 'y' is not defined"
     ]
    }
   ],
   "source": [
    "# Vai acusar um erro, pois y não foi definida como variável, e diferente de x, não definida pelo Sage\n",
    "2*y+1"
   ]
  },
  {
   "cell_type": "code",
   "execution_count": 9,
   "metadata": {},
   "outputs": [
    {
     "output_type": "execute_result",
     "data": {
      "text/plain": [
       "2*y + 1"
      ]
     },
     "metadata": {},
     "execution_count": 9
    }
   ],
   "source": [
    "# Corrigindo o erro anterior\n",
    "y = var('y')\n",
    "2*y+1"
   ]
  },
  {
   "source": [
    "A função `assume` possibilita que uma variável assuma determinados valores em apenas um trecho de código."
   ],
   "cell_type": "markdown",
   "metadata": {}
  },
  {
   "cell_type": "code",
   "execution_count": 18,
   "metadata": {},
   "outputs": [],
   "source": [
    "i = var('i')"
   ]
  },
  {
   "cell_type": "code",
   "execution_count": 20,
   "metadata": {},
   "outputs": [
    {
     "output_type": "execute_result",
     "data": {
      "text/plain": [
       "[i > -5, i < 5]"
      ]
     },
     "metadata": {},
     "execution_count": 20
    }
   ],
   "source": [
    "assume(i>-5, i<5, 'RR')\n",
    "assumptions() # Verifica as restrições assumidas"
   ]
  },
  {
   "cell_type": "code",
   "execution_count": 23,
   "metadata": {},
   "outputs": [
    {
     "output_type": "execute_result",
     "data": {
      "text/plain": [
       "[]"
      ]
     },
     "metadata": {},
     "execution_count": 23
    }
   ],
   "source": [
    "forget() # Apaga os valores assumidos\n",
    "assumptions()"
   ]
  },
  {
   "cell_type": "code",
   "execution_count": null,
   "metadata": {},
   "outputs": [],
   "source": []
  }
 ]
}